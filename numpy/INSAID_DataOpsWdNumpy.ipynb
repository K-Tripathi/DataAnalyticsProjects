{
 "cells": [
  {
   "cell_type": "code",
   "execution_count": 2,
   "id": "84fc64d5",
   "metadata": {},
   "outputs": [
    {
     "name": "stdout",
     "output_type": "stream",
     "text": [
      "python time is 0.2112\n",
      "numpy time is 0.0088\n",
      "numpy is 24.1221 times faster python\n"
     ]
    }
   ],
   "source": [
    "###comparing execution time of numpy and panda\n",
    "import time\n",
    "import numpy as np\n",
    "size_vector = 1000000\n",
    "def pure_python_v():\n",
    "    time_python = time.time()\n",
    "    py_lst1 = range(size_vector)\n",
    "    py_lst2 = range(size_vector)\n",
    "    sum_pylist = [py_lst1[i] + py_lst2[i] for i in range(len(py_lst1))]\n",
    "    return time.time() - time_python\n",
    "def pure_numpy_v():\n",
    "    time_numpy = time.time()\n",
    "    nm_lst1 = np.arange(size_vector)\n",
    "    nm_lst2 = np.arange(size_vector)\n",
    "    sum_nmlst = nm_lst1 + nm_lst2\n",
    "    return time.time() - time_numpy\n",
    "python_time = pure_python_v()\n",
    "numpy_time = pure_numpy_v()\n",
    "print(\"python time is {:0.4f}\".format(python_time))\n",
    "print(\"numpy time is {:0.4f}\".format(numpy_time))\n",
    "print(\"numpy is {:0.4f} times faster python\".format(python_time/numpy_time))"
   ]
  },
  {
   "cell_type": "code",
   "execution_count": 23,
   "id": "514b30d3",
   "metadata": {},
   "outputs": [
    {
     "name": "stdout",
     "output_type": "stream",
     "text": [
      "Type:  <class 'list'>\n",
      "Python lst concan:  [1, 2, 3, 4, 5, 1, 2, 3, 4, 5]\n",
      "Type nplst:  <class 'numpy.ndarray'>\n",
      "Numpy arry concan:  [ 2  4  6  8 10]\n",
      "numpy arry shape: (5,)\n",
      " size: 5\n",
      " resolution: 1\n",
      " datatype int64\n",
      " \n"
     ]
    }
   ],
   "source": [
    "my_pylst = [1, 2, 3, 4, 5]\n",
    "print('Type: ', type(my_pylst))\n",
    "print('Python lst concan: ', my_pylst + my_pylst)\n",
    "np_array = np.array(my_pylst)\n",
    "print('Type nplst: ', type(np_array))\n",
    "print('Numpy arry concan: ', np_array + np_array)\n",
    "print('numpy arry shape: {}\\n size: {}\\n resolution: {}\\n datatype {}\\n '\n",
    "      .format(np_array.shape, np_array.size, np_array.ndim, np_array.dtype))"
   ]
  },
  {
   "cell_type": "code",
   "execution_count": 27,
   "id": "630ee886",
   "metadata": {},
   "outputs": [
    {
     "name": "stdout",
     "output_type": "stream",
     "text": [
      "my numpy 2d array type is  <class 'numpy.ndarray'>\n",
      "my numpy array which is 2d is  [[1 2 3 4]\n",
      " [5 6 7 8]]\n",
      "array shape: (2, 4)\n",
      " size: 8\n",
      " resolution: 2\n",
      " datatype int64\n",
      "\n"
     ]
    }
   ],
   "source": [
    "#Creating 2D array using \n",
    "my_pyListoLst = [[1, 2, 3, 4],[5, 6, 7, 8]]\n",
    "my_npyListoLst = np.array(my_pyListoLst)\n",
    "print('my numpy 2d array type is ', type(my_npyListoLst))\n",
    "print('my numpy array which is 2d is ', my_npyListoLst)\n",
    "print('array shape: {}\\n size: {}\\n resolution: {}\\n datatype {}\\n'\n",
    "      .format(my_npyListoLst.shape, my_npyListoLst.size, my_npyListoLst.ndim, my_npyListoLst.dtype))"
   ]
  },
  {
   "cell_type": "code",
   "execution_count": 28,
   "id": "995d41a3",
   "metadata": {},
   "outputs": [
    {
     "name": "stdout",
     "output_type": "stream",
     "text": [
      "numpy list type is  <class 'numpy.ndarray'>\n",
      "numpy list is  [[ 1  2  3]\n",
      " [ 4  5  6]\n",
      " [ 7  8  9]\n",
      " [10 11 12]]\n",
      "array shape: (4, 3)\n",
      " size: 12\n",
      " resolution: 2\n",
      " datatype int64\n",
      " \n"
     ]
    }
   ],
   "source": [
    "my_pynlist = [[1,2,3], [4,5,6], [7,8,9], [10,11,12]]\n",
    "my_pynnpylist = np.array(my_pynlist)\n",
    "print('numpy list type is ', type(my_pynnpylist))\n",
    "print('numpy list is ', my_pynnpylist)\n",
    "print('array shape: {}\\n size: {}\\n resolution: {}\\n datatype {}\\n '\n",
    "      .format(my_pynnpylist.shape, my_pynnpylist.size, my_pynnpylist.ndim, my_pynnpylist.dtype))"
   ]
  },
  {
   "cell_type": "code",
   "execution_count": 25,
   "id": "f5a46dc4",
   "metadata": {},
   "outputs": [
    {
     "name": "stdout",
     "output_type": "stream",
     "text": [
      "type of npy array  <class 'numpy.ndarray'>\n",
      "numpy array  [[[1 1]\n",
      "  [1 1]]\n",
      "\n",
      " [[2 2]\n",
      "  [2 2]]]\n",
      "array shape: (2, 2, 2)\n",
      " size: 8\n",
      " resolution: 3\n",
      " datatype int64\n",
      " \n"
     ]
    }
   ],
   "source": [
    "my_3dpylist = [[[1, 1], [1, 1]],\n",
    "              [[2, 2], [2, 2]]]\n",
    "my_3dnpyarry = np.array(my_3dpylist)\n",
    "print('type of npy array ', type(my_3dnpyarry))\n",
    "print('numpy array ', my_3dnpyarry)\n",
    "print('array shape: {}\\n size: {}\\n resolution: {}\\n datatype {}\\n '\n",
    "      .format(my_3dnpyarry.shape, my_3dnpyarry.size, my_3dnpyarry.ndim, my_3dnpyarry.dtype))"
   ]
  },
  {
   "cell_type": "code",
   "execution_count": 30,
   "id": "aea62c1f",
   "metadata": {},
   "outputs": [
    {
     "name": "stdout",
     "output_type": "stream",
     "text": [
      "first:  [0 1 2 3 4]\n",
      "second:  [2 4]\n",
      "third:  [2 3 4]\n"
     ]
    }
   ],
   "source": [
    "print('first: ', np.arange(5))\n",
    "print('second: ', np.arange(2,5,2))\n",
    "print('third: ',np.arange(2,5))"
   ]
  },
  {
   "cell_type": "code",
   "execution_count": 31,
   "id": "2e8af347",
   "metadata": {},
   "outputs": [
    {
     "data": {
      "text/plain": [
       "array([0.        , 0.27272727, 0.54545455, 0.81818182, 1.09090909,\n",
       "       1.36363636, 1.63636364, 1.90909091, 2.18181818, 2.45454545,\n",
       "       2.72727273, 3.        ])"
      ]
     },
     "execution_count": 31,
     "metadata": {},
     "output_type": "execute_result"
    }
   ],
   "source": [
    "np.linspace(0, 3, 12)"
   ]
  },
  {
   "cell_type": "code",
   "execution_count": 44,
   "id": "1b836790",
   "metadata": {},
   "outputs": [
    {
     "name": "stdout",
     "output_type": "stream",
     "text": [
      "[0. 0. 0. 0. 0.]\n",
      "[0 0 0 0 0]\n"
     ]
    }
   ],
   "source": [
    "np_zero = np.zeros(5)\n",
    "print(np_zero)\n",
    "print(np.zeros(5,int))"
   ]
  },
  {
   "cell_type": "code",
   "execution_count": 37,
   "id": "40431d36",
   "metadata": {},
   "outputs": [
    {
     "name": "stdout",
     "output_type": "stream",
     "text": [
      "shape 2\n",
      "[[0. 0. 0. 0.]\n",
      " [0. 0. 0. 0.]\n",
      " [0. 0. 0. 0.]\n",
      " [0. 0. 0. 0.]]\n"
     ]
    }
   ],
   "source": [
    "t_dim_zeroes = np.zeros(shape=(4,4))\n",
    "print('shape', t_dim_zeroes.ndim)\n",
    "print(t_dim_zeroes)"
   ]
  },
  {
   "cell_type": "code",
   "execution_count": 39,
   "id": "aa3c2443",
   "metadata": {},
   "outputs": [
    {
     "data": {
      "text/plain": [
       "array([[1., 0., 0., 0., 0., 0., 0., 0., 0., 0., 0., 0.],\n",
       "       [0., 1., 0., 0., 0., 0., 0., 0., 0., 0., 0., 0.],\n",
       "       [0., 0., 1., 0., 0., 0., 0., 0., 0., 0., 0., 0.],\n",
       "       [0., 0., 0., 1., 0., 0., 0., 0., 0., 0., 0., 0.],\n",
       "       [0., 0., 0., 0., 1., 0., 0., 0., 0., 0., 0., 0.],\n",
       "       [0., 0., 0., 0., 0., 1., 0., 0., 0., 0., 0., 0.],\n",
       "       [0., 0., 0., 0., 0., 0., 1., 0., 0., 0., 0., 0.],\n",
       "       [0., 0., 0., 0., 0., 0., 0., 1., 0., 0., 0., 0.],\n",
       "       [0., 0., 0., 0., 0., 0., 0., 0., 1., 0., 0., 0.],\n",
       "       [0., 0., 0., 0., 0., 0., 0., 0., 0., 1., 0., 0.],\n",
       "       [0., 0., 0., 0., 0., 0., 0., 0., 0., 0., 1., 0.],\n",
       "       [0., 0., 0., 0., 0., 0., 0., 0., 0., 0., 0., 1.]])"
      ]
     },
     "execution_count": 39,
     "metadata": {},
     "output_type": "execute_result"
    }
   ],
   "source": [
    "np.eye(12)"
   ]
  },
  {
   "cell_type": "code",
   "execution_count": 50,
   "id": "9966a929",
   "metadata": {},
   "outputs": [
    {
     "name": "stdout",
     "output_type": "stream",
     "text": [
      "[0 0 0]\n",
      "[1 1 1]\n",
      "[1 1 1]\n",
      "[5 5 5]\n"
     ]
    }
   ],
   "source": [
    "a = np.array([1,2,3])\n",
    "print(np.zeros_like(a))\n",
    "print(np.ones_like(a))\n",
    "print(np.empty_like(a))\n",
    "print(np.full_like(a,5))\n"
   ]
  },
  {
   "cell_type": "code",
   "execution_count": 68,
   "id": "26729730",
   "metadata": {},
   "outputs": [
    {
     "name": "stdout",
     "output_type": "stream",
     "text": [
      "numpy 1D random arry:  [0.79084843 0.23021594]\n",
      "[0.46902785 1.03588957 0.64663532 2.06653278]\n",
      "[6 5 2 6 3]\n",
      "[5.04662016 3.12939632]\n",
      "[0.51094623 8.86059564]\n",
      "numpy 2D random arry:  [[0.22599886 0.91152438]\n",
      " [0.68410293 0.95539664]]\n"
     ]
    }
   ],
   "source": [
    "print('numpy 1D random arry: ',np.random.rand(2))\n",
    "print(np.random.randn(4))\n",
    "print(np.random.randint(0,10,5))\n",
    "print(np.random.uniform(0,7,2))\n",
    "print(np.random.normal(0,8,2))\n",
    "print('numpy 2D random arry: ', np.random.rand(2,2))"
   ]
  },
  {
   "cell_type": "code",
   "execution_count": 75,
   "id": "933517fe",
   "metadata": {},
   "outputs": [
    {
     "name": "stdout",
     "output_type": "stream",
     "text": [
      "[0.41818458 0.50899293 0.94793423 0.3111788  0.64776714 0.05709548\n",
      " 0.69551178 0.85272398]\n",
      "[[0.41818458 0.50899293]\n",
      " [0.94793423 0.3111788 ]\n",
      " [0.64776714 0.05709548]\n",
      " [0.69551178 0.85272398]]\n",
      "[[0.06330114 0.07366298 0.14613327 0.01583208 0.65031936]\n",
      " [0.60591485 0.90295302 0.46202965 0.89169653 0.51699707]]\n"
     ]
    }
   ],
   "source": [
    "rand_array = np.random.rand(8)\n",
    "print(rand_array)\n",
    "print(rand_array.reshape(4,2))\n",
    "print(np.random.rand(10).reshape(2,5))"
   ]
  },
  {
   "cell_type": "code",
   "execution_count": 97,
   "id": "2266184c",
   "metadata": {},
   "outputs": [
    {
     "name": "stdout",
     "output_type": "stream",
     "text": [
      "arr_ops:  [[ 0  1  2]\n",
      " [ 3  4  5]\n",
      " [ 6  7  8]\n",
      " [ 9 10 11]]\n",
      "complete second row:  [3 4 5]\n",
      "1st row, 3rd column:  1\n",
      "complete last column:  [ 2  5  8 11]\n",
      "2 from first 2 rows and columns:  [[0 1]\n",
      " [3 4]]\n",
      "last 2 from rows and columns:  [[ 7  8]\n",
      " [10 11]]\n"
     ]
    }
   ],
   "source": [
    "arr_Ops = np.arange(12).reshape(4,3)\n",
    "print('arr_ops: ', arr_Ops)\n",
    "print('complete second row: ',arr_Ops[1,:])\n",
    "print('1st row, 3rd column: ', arr_Ops[0,1])\n",
    "print('complete last column: ', arr_Ops[:,-1])\n",
    "print('2 from first 2 rows and columns: ', arr_Ops[0:2,0:2])\n",
    "print('last 2 from rows and columns: ', arr_Ops[2:,1:])"
   ]
  },
  {
   "cell_type": "code",
   "execution_count": 99,
   "id": "51413104",
   "metadata": {},
   "outputs": [
    {
     "name": "stdout",
     "output_type": "stream",
     "text": [
      "[ 6  9 12]\n"
     ]
    }
   ],
   "source": [
    "#broadcasting\n",
    "a = np.array([2,3,4])\n",
    "b = 3\n",
    "print(a*b)"
   ]
  },
  {
   "cell_type": "code",
   "execution_count": 104,
   "id": "4b273802",
   "metadata": {},
   "outputs": [
    {
     "name": "stdout",
     "output_type": "stream",
     "text": [
      "shape of array:  (4, 3)\n",
      "add of 2d array with scalar:  [[ 4  5  6]\n",
      " [ 8  9 10]\n",
      " [11 12 13]\n",
      " [15 16 17]]\n",
      "add 2darray with 1 d array:  [[16 17 18]\n",
      " [20 21 22]\n",
      " [23 24 25]\n",
      " [27 28 29]]\n"
     ]
    }
   ],
   "source": [
    "#2broadcasting\n",
    "arr_2D = np.array([[1,2,3],[5,6,7],[8,9,10],[12,13,14]])\n",
    "scalar = 3\n",
    "print('shape of array: ', arr_2D.shape)\n",
    "print('add of 2d array with scalar: ', arr_2D + scalar)\n",
    "arr_1D = np.array([15,15,15])\n",
    "print('add 2darray with 1 d array: ', arr_2D + arr_1D)"
   ]
  },
  {
   "cell_type": "code",
   "execution_count": 107,
   "id": "00ccdd22",
   "metadata": {},
   "outputs": [
    {
     "name": "stdout",
     "output_type": "stream",
     "text": [
      "concat by axis 1:  [[ 1  2  3  4  5 11 12 13 14 15]\n",
      " [ 6  7  8  9 10 16 17 18 19 20]]\n",
      "concat by axis 0:  [[ 1  2  3  4  5]\n",
      " [ 6  7  8  9 10]\n",
      " [11 12 13 14 15]\n",
      " [16 17 18 19 20]]\n"
     ]
    }
   ],
   "source": [
    "arr_x = np.array([[1,2,3,4,5],[6,7,8,9,10]])\n",
    "arr_y = np.array([[11,12,13,14,15],[16,17,18,19,20]])\n",
    "print('concat by axis 1: ',np.concatenate((arr_x,arr_y),axis=1))\n",
    "print('concat by axis 0: ',np.concatenate((arr_x,arr_y),axis=0))"
   ]
  },
  {
   "cell_type": "code",
   "execution_count": null,
   "id": "9e5734a5",
   "metadata": {},
   "outputs": [],
   "source": []
  },
  {
   "cell_type": "code",
   "execution_count": null,
   "id": "671c7908",
   "metadata": {},
   "outputs": [],
   "source": []
  }
 ],
 "metadata": {
  "kernelspec": {
   "display_name": "Python 3 (ipykernel)",
   "language": "python",
   "name": "python3"
  },
  "language_info": {
   "codemirror_mode": {
    "name": "ipython",
    "version": 3
   },
   "file_extension": ".py",
   "mimetype": "text/x-python",
   "name": "python",
   "nbconvert_exporter": "python",
   "pygments_lexer": "ipython3",
   "version": "3.9.12"
  }
 },
 "nbformat": 4,
 "nbformat_minor": 5
}
