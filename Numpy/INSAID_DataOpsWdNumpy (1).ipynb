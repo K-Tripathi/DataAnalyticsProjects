{
 "cells": [
  {
   "cell_type": "code",
   "execution_count": 11,
   "id": "84fc64d5",
   "metadata": {},
   "outputs": [
    {
     "name": "stdout",
     "output_type": "stream",
     "text": [
      "python time is 0.2094\n",
      "numpy time is 0.0082\n",
      "numpy is 25.4176 times faster python\n"
     ]
    }
   ],
   "source": [
    "###comparing execution time of numpy and panda\n",
    "import time\n",
    "import numpy as np\n",
    "size_vector = 1000000\n",
    "def pure_python_v():\n",
    "    time_python = time.time()\n",
    "    py_lst1 = range(size_vector)\n",
    "    py_lst2 = range(size_vector)\n",
    "    sum_pylist = [py_lst1[i] + py_lst2[i] for i in range(len(py_lst1))]\n",
    "    return time.time() - time_python\n",
    "def pure_numpy_v():\n",
    "    time_numpy = time.time()\n",
    "    nm_lst1 = np.arange(size_vector)\n",
    "    nm_lst2 = np.arange(size_vector)\n",
    "    sum_nmlst = nm_lst1 + nm_lst2\n",
    "    return time.time() - time_numpy\n",
    "python_time = pure_python_v()\n",
    "numpy_time = pure_numpy_v()\n",
    "print(\"python time is {:0.4f}\".format(python_time))\n",
    "print(\"numpy time is {:0.4f}\".format(numpy_time))\n",
    "print(\"numpy is {:0.4f} times faster python\".format(python_time/numpy_time))"
   ]
  },
  {
   "cell_type": "code",
   "execution_count": 15,
   "id": "514b30d3",
   "metadata": {},
   "outputs": [
    {
     "name": "stdout",
     "output_type": "stream",
     "text": [
      "Type:  <class 'list'>\n",
      "Python lst concan:  [1, 2, 3, 4, 5, 1, 2, 3, 4, 5]\n",
      "Type nplst:  <class 'numpy.ndarray'>\n",
      "Numpy lst concan:  [ 2  4  6  8 10]\n"
     ]
    }
   ],
   "source": [
    "my_pylst = [1, 2, 3, 4, 5]\n",
    "print('Type: ', type(my_pylst))\n",
    "print('Python lst concan: ', my_pylst + my_pylst)\n",
    "np_array = np.array(my_pylst)\n",
    "print('Type nplst: ', type(np_array))\n",
    "print('Numpy lst concan: ', np_array + np_array)"
   ]
  },
  {
   "cell_type": "code",
   "execution_count": 16,
   "id": "630ee886",
   "metadata": {},
   "outputs": [
    {
     "name": "stdout",
     "output_type": "stream",
     "text": [
      "my numpy 2d array type is  <class 'numpy.ndarray'>\n",
      "my numpy array which is 2d is  [[1 2 3 4]\n",
      " [5 6 7 8]]\n"
     ]
    }
   ],
   "source": [
    "#Creating 2D array using \n",
    "my_pyListoLst = [[1, 2, 3, 4],[5, 6, 7, 8]]\n",
    "my_npyListoLst = np.array(my_pyListoLst)\n",
    "print('my numpy 2d array type is ', type(my_npyListoLst))\n",
    "print('my numpy array which is 2d is ', my_npyListoLst)"
   ]
  },
  {
   "cell_type": "code",
   "execution_count": null,
   "id": "995d41a3",
   "metadata": {},
   "outputs": [],
   "source": []
  }
 ],
 "metadata": {
  "kernelspec": {
   "display_name": "Python 3 (ipykernel)",
   "language": "python",
   "name": "python3"
  },
  "language_info": {
   "codemirror_mode": {
    "name": "ipython",
    "version": 3
   },
   "file_extension": ".py",
   "mimetype": "text/x-python",
   "name": "python",
   "nbconvert_exporter": "python",
   "pygments_lexer": "ipython3",
   "version": "3.9.12"
  }
 },
 "nbformat": 4,
 "nbformat_minor": 5
}
